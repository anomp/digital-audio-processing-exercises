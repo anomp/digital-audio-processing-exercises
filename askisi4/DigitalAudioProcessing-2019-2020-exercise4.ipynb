{
 "cells": [
  {
   "cell_type": "code",
   "execution_count": 1,
   "metadata": {},
   "outputs": [],
   "source": [
    "%load_ext autoreload\n",
    "%autoreload 2"
   ]
  },
  {
   "cell_type": "code",
   "execution_count": 2,
   "metadata": {},
   "outputs": [],
   "source": [
    "import os\n",
    "os.chdir(os.path.join(os.getcwd(),\"..\"))"
   ]
  },
  {
   "cell_type": "code",
   "execution_count": 3,
   "metadata": {},
   "outputs": [],
   "source": [
    "import numpy as np\n",
    "import scipy as sp\n",
    "from pathlib import Path\n",
    "\n",
    "from utils.functions import * \n",
    "from scipy import signal\n",
    "from scipy.io import wavfile\n",
    "from pydub import AudioSegment\n",
    "from matplotlib import pyplot as plt\n",
    "%matplotlib widget\n",
    "import IPython.display as ipd"
   ]
  },
  {
   "cell_type": "code",
   "execution_count": 4,
   "metadata": {},
   "outputs": [],
   "source": [
    "def create_sinusoid(rate, f_s, s_m, duration=1):\n",
    "    \"\"\"\n",
    "    \n",
    "    :param rate: sampling rate. Usually 44100\n",
    "    :param f_s: signal frequency\n",
    "    :param s_m: signal magnitude (usually voltage)\n",
    "    :param duration: duration in seconds\n",
    "    :return: sinusoid signal\n",
    "    \"\"\"\n",
    "    time = np.linspace(0,duration, num=rate*duration)\n",
    "    s = s_m*np.sin(2*np.pi*f_s*time)\n",
    "#     w = hann(rate*duration)\n",
    "#     y = s*w\n",
    "    return s"
   ]
  },
  {
   "cell_type": "markdown",
   "metadata": {},
   "source": [
    "# Αρχικοποίηση φακέλων για τα αρχεία εισόδου και τα παραγόμενα αρχεία "
   ]
  },
  {
   "cell_type": "code",
   "execution_count": 5,
   "metadata": {},
   "outputs": [],
   "source": [
    "source_audio_dir = Path(\"source_audio_files\")\n",
    "generated_audio_files_python = Path(\"generated_audio_files_python\").joinpath(\"askisi4\")\n",
    "generated_audio_files_python.mkdir(exist_ok=True, parents=True)\n",
    "generated_audio_files_ffmpeg = Path(\"generated_audio_files_ffmpeg\").joinpath(\"askisi4\")\n",
    "generated_audio_files_matlab = Path(\"generated_audio_files_matlab\").joinpath(\"askisi4\")\n",
    "generated_audio_files_audacity = Path(\"generated_audio_files_audacity\").joinpath(\"askisi4\")"
   ]
  },
  {
   "cell_type": "markdown",
   "metadata": {},
   "source": [
    "# Μέρος 1: Δημιουργία ημιτονικού σήματος"
   ]
  },
  {
   "cell_type": "markdown",
   "metadata": {},
   "source": [
    "Δημιουργία και κβάντιση ημιτονικού σήματος"
   ]
  },
  {
   "cell_type": "code",
   "execution_count": 6,
   "metadata": {},
   "outputs": [],
   "source": [
    "rate = 44100\n",
    "duration = 5\n",
    "s1 = create_sinusoid(rate,5000,0.98,duration)\n",
    "y1 = quantise_audio(s1,16,1,-1,0,1)"
   ]
  },
  {
   "cell_type": "code",
   "execution_count": 7,
   "metadata": {},
   "outputs": [],
   "source": [
    "dt = 1/rate\n",
    "npts = rate*5\n",
    "ft_sin = np.fft.rfft(y1)\n",
    "ps_sin = np.real(ft_sin*np.conj(ft_sin))*np.square(dt)\n",
    "w = np.fft.fftfreq(npts, d=dt)\n",
    "w = np.abs(w[:npts//2+1]) # only freqs for real fft\n",
    "dBsin = 20*np.log10(ps_sin/np.max(ps_sin))"
   ]
  },
  {
   "cell_type": "code",
   "execution_count": 8,
   "metadata": {},
   "outputs": [
    {
     "data": {
      "application/vnd.jupyter.widget-view+json": {
       "model_id": "09ee095ee18945ca911dc0765466c6b4",
       "version_major": 2,
       "version_minor": 0
      },
      "text/plain": [
       "Canvas(toolbar=Toolbar(toolitems=[('Home', 'Reset original view', 'home', 'home'), ('Back', 'Back to previous …"
      ]
     },
     "metadata": {},
     "output_type": "display_data"
    },
    {
     "data": {
      "text/plain": [
       "[<matplotlib.lines.Line2D at 0x7f8ccd780d90>]"
      ]
     },
     "execution_count": 8,
     "metadata": {},
     "output_type": "execute_result"
    }
   ],
   "source": [
    "fig, ax = plt.subplots(1, 1, figsize=(8, 6))\n",
    "ax.semilogx(w, ps_sin)"
   ]
  },
  {
   "cell_type": "code",
   "execution_count": 9,
   "metadata": {},
   "outputs": [
    {
     "data": {
      "application/vnd.jupyter.widget-view+json": {
       "model_id": "c91ec27e1cc0410c99b030b8cc3161b0",
       "version_major": 2,
       "version_minor": 0
      },
      "text/plain": [
       "Canvas(toolbar=Toolbar(toolitems=[('Home', 'Reset original view', 'home', 'home'), ('Back', 'Back to previous …"
      ]
     },
     "metadata": {},
     "output_type": "display_data"
    }
   ],
   "source": [
    "fig, ax = plt.subplots(1, 1, figsize=(8, 6))\n",
    "ax = plotSpectrum(y1, 44100, db=True, logx=True, ax=ax)"
   ]
  },
  {
   "cell_type": "code",
   "execution_count": 10,
   "metadata": {},
   "outputs": [],
   "source": [
    "f2, Pn = sp.signal.periodogram(y1)"
   ]
  },
  {
   "cell_type": "code",
   "execution_count": 11,
   "metadata": {},
   "outputs": [
    {
     "name": "stderr",
     "output_type": "stream",
     "text": [
      "/home/user/.local/lib/python3.7/site-packages/ipykernel_launcher.py:1: UserWarning: Data has no positive values, and therefore cannot be log-scaled.\n",
      "  \"\"\"Entry point for launching an IPython kernel.\n"
     ]
    },
    {
     "data": {
      "text/plain": [
       "[<matplotlib.lines.Line2D at 0x7f8cccf4af50>]"
      ]
     },
     "execution_count": 11,
     "metadata": {},
     "output_type": "execute_result"
    }
   ],
   "source": [
    "ax.semilogy(f2,Pn)"
   ]
  },
  {
   "cell_type": "code",
   "execution_count": 12,
   "metadata": {},
   "outputs": [
    {
     "data": {
      "application/vnd.jupyter.widget-view+json": {
       "model_id": "73cf34e98d6245d3b7321088d8e60182",
       "version_major": 2,
       "version_minor": 0
      },
      "text/plain": [
       "Canvas(toolbar=Toolbar(toolitems=[('Home', 'Reset original view', 'home', 'home'), ('Back', 'Back to previous …"
      ]
     },
     "metadata": {},
     "output_type": "display_data"
    }
   ],
   "source": [
    "fig, ax = plt.subplots(1, 1, figsize=(8, 6))\n",
    "ax = plotSpectrum(y1, 44100, db=True, logx=True, ax=ax)\n",
    "ax.set_xlabel('Frequency (Hz)')\n",
    "ax.set_ylabel('Magnitude (dB)')\n",
    "# ax.set_ylim([-200,5])\n",
    "ax.grid()"
   ]
  },
  {
   "cell_type": "code",
   "execution_count": 13,
   "metadata": {},
   "outputs": [],
   "source": [
    "wavfile.write(generated_audio_files_python.joinpath(\"sine.wav\"),44100, y1)"
   ]
  },
  {
   "cell_type": "markdown",
   "metadata": {},
   "source": [
    "## Κωδικοποίηση του ημιτονικού σήματος σε μορφή mp4"
   ]
  },
  {
   "cell_type": "markdown",
   "metadata": {},
   "source": [
    "Για την κωδικοποίηση χρησιμοποιείται η βιβλιοθήκη της python [`pydub`](https://github.com/jiaaro/pydub) καθώς η συνάρτηση `wavfile.write` δεν υποστηρίζει την εγγραφή με την συγκεκριμένη κωδικοποίηση όπως η αντίστοιχη συνάρτηση `audiowrite` της matlab."
   ]
  },
  {
   "cell_type": "markdown",
   "metadata": {},
   "source": [
    "Για την δημιουργία του mp4 αρχείου χρησιμοποιείται η εντολή  \n",
    "```\n",
    "ffmpeg -i sine.wav -b:a 96k sine.mp4\n",
    "```\n",
    "η οποία χρησιμοποιεί τα codecs της βιβλιοθήκης [`ffmpeg`](https://www.ffmpeg.org/) η οποία πρέπει να είναι εγκατεστημένη στο σύστημά μας."
   ]
  },
  {
   "cell_type": "code",
   "execution_count": null,
   "metadata": {},
   "outputs": [],
   "source": []
  },
  {
   "cell_type": "code",
   "execution_count": 14,
   "metadata": {},
   "outputs": [],
   "source": [
    "# audio_segment = AudioSegment(\n",
    "#     y1.astype(np.float32).tobytes(), \n",
    "#     frame_rate=44100,\n",
    "#     sample_width=y1.dtype.itemsize, \n",
    "#     channels=1\n",
    "# )"
   ]
  },
  {
   "cell_type": "code",
   "execution_count": 15,
   "metadata": {},
   "outputs": [],
   "source": [
    "# audio_segment.export(\"sine.mp4\", format=\"mp4\", bitrate=\"96k\")"
   ]
  },
  {
   "cell_type": "markdown",
   "metadata": {},
   "source": [
    "Εισαγωγή του αρχείου μορφής mp4 και αποκωδικοποίηση του σε `wav`."
   ]
  },
  {
   "cell_type": "code",
   "execution_count": 16,
   "metadata": {},
   "outputs": [],
   "source": [
    "sine_mp4 = AudioSegment.from_file(Path(generated_audio_files_ffmpeg / \"sine.mp4\"), format=\"mp4\")\n",
    "sine_mp4.export(generated_audio_files_python.joinpath(\"sinedcc.wav\"), format=\"wav\")\n",
    "rate, sinedcc = wavfile.read(Path(generated_audio_files_python / \"sinedcc.wav\"))"
   ]
  },
  {
   "cell_type": "markdown",
   "metadata": {},
   "source": [
    "Εισαγωγή του αρχείου που προέκυψε από την κωδικοποίηση/αποκωδικοποίηση με χρήση του Audacity"
   ]
  },
  {
   "cell_type": "code",
   "execution_count": 17,
   "metadata": {},
   "outputs": [],
   "source": [
    "rate, sinedc = wavfile.read(Path(generated_audio_files_audacity / \"sinedc.wav\"))"
   ]
  },
  {
   "cell_type": "markdown",
   "metadata": {},
   "source": [
    "Εισαγωγή του αρχικού αρχείου `sine.wav` που δημιουργήθηκε από την numpy."
   ]
  },
  {
   "cell_type": "code",
   "execution_count": 18,
   "metadata": {},
   "outputs": [],
   "source": [
    "rate, sine = wavfile.read(Path(generated_audio_files_python / \"sine.wav\"))"
   ]
  },
  {
   "cell_type": "code",
   "execution_count": 19,
   "metadata": {},
   "outputs": [
    {
     "data": {
      "application/vnd.jupyter.widget-view+json": {
       "model_id": "0956a1e5521e44cca8b93a61ee34fc12",
       "version_major": 2,
       "version_minor": 0
      },
      "text/plain": [
       "Canvas(toolbar=Toolbar(toolitems=[('Home', 'Reset original view', 'home', 'home'), ('Back', 'Back to previous …"
      ]
     },
     "metadata": {},
     "output_type": "display_data"
    }
   ],
   "source": [
    "fig, ax = plt.subplots(1, 1, figsize=(8, 6))\n",
    "ax = plotSpectrum(sine, 44100, db=True, logx=True, ax=ax)\n",
    "ax = plotSpectrum(sinedc, 44100, db=True, logx=True, ax=ax)\n",
    "ax = plotSpectrum(sinedcc, 44100, db=True, logx=True, ax=ax)\n",
    "ax.legend(['wav quality','audacity quality','ffmpeg quality'])\n",
    "ax.grid()"
   ]
  },
  {
   "cell_type": "markdown",
   "metadata": {},
   "source": [
    "# Μέρος 2: Εφαρμογή της διαδικασίας στα αρχεία bongo.wav και xylophone.wav"
   ]
  },
  {
   "cell_type": "markdown",
   "metadata": {},
   "source": [
    "### Αρχείο bongo.wav"
   ]
  },
  {
   "cell_type": "markdown",
   "metadata": {},
   "source": [
    "Εισαγωγή του αρχείου μορφής mp4 και αποκωδικοποίηση του σε `wav`."
   ]
  },
  {
   "cell_type": "code",
   "execution_count": 20,
   "metadata": {},
   "outputs": [],
   "source": [
    "bongo_mp4 = AudioSegment.from_file(Path(generated_audio_files_ffmpeg / \"bongo.mp4\"), format=\"mp4\")\n",
    "bongo_mp4.export(\"bongodcc.wav\", format=\"wav\")\n",
    "rate, bongodcc = wavfile.read(\"bongodcc.wav\")"
   ]
  },
  {
   "cell_type": "markdown",
   "metadata": {},
   "source": [
    "Εισαγωγή του αρχείου που προέκυψε από την κωδικοποίηση/αποκωδικοποίηση με χρήση του Audacity"
   ]
  },
  {
   "cell_type": "code",
   "execution_count": 21,
   "metadata": {},
   "outputs": [],
   "source": [
    "rate, bongodc = wavfile.read(Path(generated_audio_files_audacity / \"bongodc.wav\"))"
   ]
  },
  {
   "cell_type": "markdown",
   "metadata": {},
   "source": [
    "Εισαγωγή του αρχικού αρχείου `bongo.wav`."
   ]
  },
  {
   "cell_type": "code",
   "execution_count": 22,
   "metadata": {},
   "outputs": [
    {
     "name": "stderr",
     "output_type": "stream",
     "text": [
      "/home/user/.local/lib/python3.7/site-packages/ipykernel_launcher.py:1: WavFileWarning: Chunk (non-data) not understood, skipping it.\n",
      "  \"\"\"Entry point for launching an IPython kernel.\n"
     ]
    }
   ],
   "source": [
    "rate, bongo = wavfile.read(Path(source_audio_dir / \"bongo.wav\"))"
   ]
  },
  {
   "cell_type": "code",
   "execution_count": 23,
   "metadata": {},
   "outputs": [
    {
     "data": {
      "application/vnd.jupyter.widget-view+json": {
       "model_id": "616b387f2470493b8e26bea799ac4c57",
       "version_major": 2,
       "version_minor": 0
      },
      "text/plain": [
       "Canvas(toolbar=Toolbar(toolitems=[('Home', 'Reset original view', 'home', 'home'), ('Back', 'Back to previous …"
      ]
     },
     "metadata": {},
     "output_type": "display_data"
    }
   ],
   "source": [
    "fig, ax = plt.subplots(1, 1, figsize=(8, 6))\n",
    "ax = plotSpectrum(bongo, 44100, db=True, logx=True, ax=ax)\n",
    "ax = plotSpectrum(bongodc, 44100, db=True, logx=True, ax=ax)\n",
    "ax = plotSpectrum(bongodcc, 44100, db=True, logx=True, ax=ax)\n",
    "ax.legend(['wav quality','audacity quality','ffmpeg quality'])\n",
    "ax.grid()"
   ]
  },
  {
   "cell_type": "markdown",
   "metadata": {},
   "source": [
    "### Αρχείο xylophone.wav"
   ]
  },
  {
   "cell_type": "markdown",
   "metadata": {},
   "source": [
    "Εισαγωγή του αρχείου μορφής mp4 και αποκωδικοποίηση του σε `wav`."
   ]
  },
  {
   "cell_type": "code",
   "execution_count": 24,
   "metadata": {},
   "outputs": [],
   "source": [
    "xylophone_mp4 = AudioSegment.from_file(Path(generated_audio_files_ffmpeg / \"xylophone.mp4\"), format=\"mp4\")\n",
    "xylophone_mp4.export(\"xylophonedcc.wav\", format=\"wav\")\n",
    "rate, xylophonedcc = wavfile.read(\"xylophonedcc.wav\")"
   ]
  },
  {
   "cell_type": "markdown",
   "metadata": {},
   "source": [
    "Εισαγωγή του αρχείου που προέκυψε από την κωδικοποίηση/αποκωδικοποίηση με χρήση του Audacity"
   ]
  },
  {
   "cell_type": "code",
   "execution_count": 25,
   "metadata": {},
   "outputs": [],
   "source": [
    "rate, xylophonedc = wavfile.read(Path(generated_audio_files_audacity / \"xylophonedc.wav\"))"
   ]
  },
  {
   "cell_type": "markdown",
   "metadata": {},
   "source": [
    "Εισαγωγή του αρχικού αρχείου `xylophone.wav`."
   ]
  },
  {
   "cell_type": "code",
   "execution_count": 26,
   "metadata": {},
   "outputs": [
    {
     "name": "stderr",
     "output_type": "stream",
     "text": [
      "/home/user/.local/lib/python3.7/site-packages/ipykernel_launcher.py:1: WavFileWarning: Chunk (non-data) not understood, skipping it.\n",
      "  \"\"\"Entry point for launching an IPython kernel.\n"
     ]
    }
   ],
   "source": [
    "rate, xylophone = wavfile.read(source_audio_dir / \"xylophone.wav\")"
   ]
  },
  {
   "cell_type": "code",
   "execution_count": 27,
   "metadata": {},
   "outputs": [
    {
     "data": {
      "application/vnd.jupyter.widget-view+json": {
       "model_id": "642182e252604706a2629f0acf081cd8",
       "version_major": 2,
       "version_minor": 0
      },
      "text/plain": [
       "Canvas(toolbar=Toolbar(toolitems=[('Home', 'Reset original view', 'home', 'home'), ('Back', 'Back to previous …"
      ]
     },
     "metadata": {},
     "output_type": "display_data"
    }
   ],
   "source": [
    "fig, ax = plt.subplots(1, 1, figsize=(8, 6))\n",
    "ax = plotSpectrum(xylophone, 44100, db=True, logx=True, ax=ax)\n",
    "ax = plotSpectrum(xylophonedc, 44100, db=True, logx=True, ax=ax)\n",
    "ax = plotSpectrum(xylophonedcc, 44100, db=True, logx=True, ax=ax)\n",
    "ax.legend(['wav quality','audacity quality','ffmpeg quality'])\n",
    "ax.grid()"
   ]
  },
  {
   "cell_type": "markdown",
   "metadata": {},
   "source": [
    "##  Συγχρονισμός των αρχείων ήχου για το ημιτονικό σήμα "
   ]
  },
  {
   "cell_type": "code",
   "execution_count": 28,
   "metadata": {},
   "outputs": [],
   "source": [
    "rate, sinedccm = wavfile.read(Path(generated_audio_files_matlab / \"sinedccm.wav\"))"
   ]
  },
  {
   "cell_type": "code",
   "execution_count": 29,
   "metadata": {},
   "outputs": [
    {
     "data": {
      "application/vnd.jupyter.widget-view+json": {
       "model_id": "db10ee5257a34751a36cc5efa52fb035",
       "version_major": 2,
       "version_minor": 0
      },
      "text/plain": [
       "Canvas(toolbar=Toolbar(toolitems=[('Home', 'Reset original view', 'home', 'home'), ('Back', 'Back to previous …"
      ]
     },
     "metadata": {},
     "output_type": "display_data"
    },
    {
     "data": {
      "text/plain": [
       "Text(0.5, 1.0, 'Samples of the first 50 samples of sinusoids\\ngenerated in different tools')"
      ]
     },
     "execution_count": 29,
     "metadata": {},
     "output_type": "execute_result"
    }
   ],
   "source": [
    "fig2, ax = plt.subplots(1, 1, figsize=(8, 6))\n",
    "ax.cla()\n",
    "ax.plot(sine[:50])\n",
    "ax.plot(sinedc[:50])\n",
    "ax.plot(sinedcc[:50]/32767)\n",
    "ax.plot(sinedccm[:50]*32767)\n",
    "ax.legend(['orig', 'mp3', 'ffmpeg', 'matlab'])\n",
    "ax.set_title(\"Samples of the first 50 samples of sinusoids\\ngenerated in different tools\")"
   ]
  },
  {
   "cell_type": "markdown",
   "metadata": {},
   "source": [
    "Το ερώτημα για το time alignment των ημιτόνων δεν υλοποιήθηκε, καθώς δεν βρέθηκε βιβλιοθήκη που να υλοποιεί την `alignsignals` συνάρτηση της MATLAB σε python. Ένα παράδειγμα που θα επιτρέψει την υλοποίηση του ερωτήματος ωστόσο με τη χρήση της συνάρτησης `np.correlate` υπάρχει στον [σύνδεσμο](https://biosignalsplux.com/learn/notebooks/Categories/Pre-Process/synchronisation_rev.php)."
   ]
  }
 ],
 "metadata": {
  "kernelspec": {
   "display_name": "ds",
   "language": "python",
   "name": "ds"
  },
  "language_info": {
   "codemirror_mode": {
    "name": "ipython",
    "version": 3
   },
   "file_extension": ".py",
   "mimetype": "text/x-python",
   "name": "python",
   "nbconvert_exporter": "python",
   "pygments_lexer": "ipython3",
   "version": "3.7.5"
  }
 },
 "nbformat": 4,
 "nbformat_minor": 4
}
